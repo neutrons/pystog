{
 "cells": [
  {
   "cell_type": "markdown",
   "metadata": {},
   "source": [
    "# Notebook prerequisites\n",
    "\n",
    "NOTICE: These are prerequisite steps to run the examples on Binder. Locally, you probably do not have to execute the cell below\n",
    "\n",
    "This is to install PyStoG into the environment and then matplotlib for visualization.\n"
   ]
  },
  {
   "cell_type": "code",
   "execution_count": null,
   "metadata": {},
   "outputs": [],
   "source": [
    "!type python\n",
    "!python -m pip install ../\n",
    "!python -m pip install matplotlib"
   ]
  },
  {
   "cell_type": "markdown",
   "metadata": {},
   "source": [
    "# How to use the Transformer class from PyStoG\n",
    "\n",
    "This tutorial shows how to use the `Transformer` class from `pystog`\n"
   ]
  },
  {
   "cell_type": "code",
   "execution_count": null,
   "metadata": {},
   "outputs": [],
   "source": [
    "import os\n",
    "\n",
    "import numpy as np\n",
    "\n",
    "from pystog import Transformer"
   ]
  },
  {
   "cell_type": "markdown",
   "metadata": {},
   "source": [
    "## Converting real space functions"
   ]
  },
  {
   "cell_type": "markdown",
   "metadata": {
    "collapsed": true
   },
   "source": [
    "To use the `transformer` class, we first need some data. Lets load in some test data for Argon from our test suite. \n",
    "We are going to extract the $r$ and $g(r)$ from small molecular dynamics simulations generated using [LAMMPS](https://lammps.sandia.gov/). "
   ]
  },
  {
   "cell_type": "code",
   "execution_count": null,
   "metadata": {},
   "outputs": [],
   "source": [
    "data_file = os.path.join(\"..\", \"tests\", \"test_data\", \"argon.gr\")\n",
    "i, r, gr, nr = np.loadtxt(data_file, unpack=True, skiprows=5)\n",
    "print(\"r vector: \", r)"
   ]
  },
  {
   "cell_type": "markdown",
   "metadata": {},
   "source": [
    "Let's look at the data that we imported:"
   ]
  },
  {
   "cell_type": "code",
   "execution_count": null,
   "metadata": {},
   "outputs": [],
   "source": [
    "%matplotlib notebook\n",
    "import matplotlib.pyplot as plt\n",
    "\n",
    "plt.plot(r, gr)\n",
    "plt.ylabel(\"$g(r)$\")\n",
    "plt.xlabel(r\"r [$\\AA$]\")\n",
    "plt.show()"
   ]
  },
  {
   "cell_type": "markdown",
   "metadata": {},
   "source": [
    "Okay, now we create an instance of a `transformer` object using the `Transformer` class:"
   ]
  },
  {
   "cell_type": "code",
   "execution_count": null,
   "metadata": {},
   "outputs": [],
   "source": [
    "transformer = Transformer()"
   ]
  },
  {
   "cell_type": "markdown",
   "metadata": {},
   "source": [
    "We need to pass in some material-specific information to the converter\n",
    "functions. Here is a dictionary of the values we need. There is also a testing\n",
    "utility class `Argon` with these values for the dataset found [here](https://github.com/neutrons/pystog/blob/master/tests/materials.py)."
   ]
  },
  {
   "cell_type": "code",
   "execution_count": null,
   "metadata": {},
   "outputs": [],
   "source": [
    "kwargs = {\"rho\": 0.02138, \"<b_coh>^2\": 3.644, \"<b_tot^2>\": 5.435}"
   ]
  },
  {
   "cell_type": "markdown",
   "metadata": {},
   "source": [
    "We also need to create the $Q$ vector domain we will map our Fourier transform to:"
   ]
  },
  {
   "cell_type": "code",
   "execution_count": null,
   "metadata": {},
   "outputs": [],
   "source": [
    "buffer = 0.001\n",
    "q = np.arange(0.12, 35.0 + buffer, 0.02)\n",
    "print(\"Q vector: \", q)"
   ]
  },
  {
   "cell_type": "markdown",
   "metadata": {},
   "source": [
    "We now have the functions available to convert our $g(r)$ function to reciprocal space functions:"
   ]
  },
  {
   "cell_type": "code",
   "execution_count": null,
   "metadata": {},
   "outputs": [],
   "source": [
    "q, sq, dsq = transformer.g_to_S(r, gr, q, **kwargs)\n",
    "q, fq, dfq = transformer.g_to_F(r, gr, q, **kwargs)\n",
    "q, fq_keen, dfq_keen = transformer.g_to_FK(r, gr, q, **kwargs)\n",
    "q, dcs, ddcs = transformer.g_to_DCS(r, gr, q, **kwargs)"
   ]
  },
  {
   "cell_type": "markdown",
   "metadata": {},
   "source": [
    "Now we can plot the functions to compare:"
   ]
  },
  {
   "cell_type": "code",
   "execution_count": null,
   "metadata": {},
   "outputs": [],
   "source": [
    "# Creates two subplots and unpacks the output array immediately\n",
    "%matplotlib inline\n",
    "import matplotlib.pyplot as plt\n",
    "\n",
    "f, ax = plt.subplots(2, 2, sharex=True)\n",
    "f.tight_layout()\n",
    "xlabel = r\"Q [$\\AA^{-1}$]\"\n",
    "\n",
    "ax[0, 0].plot(q, sq)\n",
    "ax[0, 0].set_ylabel(\"$S(Q)$\")\n",
    "\n",
    "ax[0, 1].plot(q, fq)\n",
    "ax[0, 1].set_ylabel(\"$Q[S(Q)-1]$\")\n",
    "ax[1, 1].set_xlabel(xlabel)\n",
    "\n",
    "ax[1, 0].plot(q, fq_keen)\n",
    "ax[1, 0].set_ylabel(\"$F(Q)$ [Keen version]\")\n",
    "ax[1, 0].set_xlabel(xlabel)\n",
    "\n",
    "ax[1, 1].plot(q, dcs)\n",
    "ax[1, 1].set_ylabel(r\"$d_{\\sigma} / d_{\\Omega}$\")\n",
    "ax[1, 1].set_xlabel(xlabel)\n",
    "plt.show()"
   ]
  },
  {
   "cell_type": "markdown",
   "metadata": {},
   "source": [
    "## Converting reciprocal space functions"
   ]
  },
  {
   "cell_type": "code",
   "execution_count": null,
   "metadata": {},
   "outputs": [],
   "source": [
    "transformer = Transformer()"
   ]
  },
  {
   "cell_type": "markdown",
   "metadata": {},
   "source": [
    "Now let us load in some reciprocal space test data for Argon from our test suite. \n",
    "We are going to extract the $Q$ and $S(Q)$. These are actually generated exactly how we did in the tutorial above:"
   ]
  },
  {
   "cell_type": "code",
   "execution_count": null,
   "metadata": {},
   "outputs": [],
   "source": [
    "data_file = os.path.join(\"..\", \"tests\", \"test_data\", \"argon.reciprocal_space.dat\")\n",
    "q, sq = np.loadtxt(data_file, unpack=True, skiprows=2, usecols=(0, 1))\n",
    "q = q[5:]\n",
    "sq = sq[5:]"
   ]
  },
  {
   "cell_type": "markdown",
   "metadata": {},
   "source": [
    "Add lets look at the data we imported:"
   ]
  },
  {
   "cell_type": "code",
   "execution_count": null,
   "metadata": {},
   "outputs": [],
   "source": [
    "%matplotlib notebook\n",
    "import matplotlib.pyplot as plt\n",
    "\n",
    "plt.plot(q, sq)\n",
    "plt.ylabel(\"$S(Q)$\")\n",
    "plt.xlabel(r\"Q [$\\AA^{-1}$]\")\n",
    "plt.show()"
   ]
  },
  {
   "cell_type": "markdown",
   "metadata": {},
   "source": [
    "Again, we need to pass in some material-specific information to the converter\n",
    "functions. We replicate the `kwargs` just for convenience here:"
   ]
  },
  {
   "cell_type": "code",
   "execution_count": null,
   "metadata": {},
   "outputs": [],
   "source": [
    "kwargs = {\"rho\": 0.02138, \"<b_coh>^2\": 3.644, \"<b_tot^2>\": 5.435}"
   ]
  },
  {
   "cell_type": "markdown",
   "metadata": {},
   "source": [
    "We also need to create the $r$ vector domain we will map our Fourier transform to:"
   ]
  },
  {
   "cell_type": "code",
   "execution_count": null,
   "metadata": {},
   "outputs": [],
   "source": [
    "buffer = 0.001\n",
    "r = np.arange(0.075, 63.975 + buffer, 0.05)\n",
    "print(\"r vector: \", r)"
   ]
  },
  {
   "cell_type": "code",
   "execution_count": null,
   "metadata": {},
   "outputs": [],
   "source": [
    "r, gr, dgr = transformer.S_to_g(q, sq, r, **kwargs)\n",
    "r, GofR, dGofR = transformer.S_to_G(q, sq, r, **kwargs)\n",
    "r, GKofR, dGKofR = transformer.S_to_GK(q, sq, r, **kwargs)"
   ]
  },
  {
   "cell_type": "markdown",
   "metadata": {},
   "source": [
    "And let us plot the output data:"
   ]
  },
  {
   "cell_type": "code",
   "execution_count": null,
   "metadata": {},
   "outputs": [],
   "source": [
    "# Creates two subplots and unpacks the output array immediately\n",
    "%matplotlib inline\n",
    "import matplotlib.pyplot as plt\n",
    "\n",
    "f, ax = plt.subplots(3, 1, sharex=True)\n",
    "ax[0].plot(r, gr)\n",
    "ax[0].set_ylabel(\"g(r)\")\n",
    "\n",
    "ax[1].plot(r, GofR)\n",
    "ax[1].set_ylabel(\"G(r)\")\n",
    "\n",
    "ax[2].plot(r, GKofR)\n",
    "ax[2].set_ylabel(\"G(r) [Keen version]\")\n",
    "ax[2].set_xlabel(r\"r [$\\AA$]\")\n",
    "plt.show()"
   ]
  }
 ],
 "metadata": {
  "kernelspec": {
   "display_name": "Python 3",
   "language": "python",
   "name": "python3"
  },
  "language_info": {
   "codemirror_mode": {
    "name": "ipython",
    "version": 3
   },
   "file_extension": ".py",
   "mimetype": "text/x-python",
   "name": "python",
   "nbconvert_exporter": "python",
   "pygments_lexer": "ipython3",
   "version": "3.6.12"
  }
 },
 "nbformat": 4,
 "nbformat_minor": 2
}
