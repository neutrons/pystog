{
 "cells": [
  {
   "cell_type": "markdown",
   "metadata": {},
   "source": [
    "# Notebook prerequisites\n",
    "\n",
    "NOTICE: These are prerequisite steps to run the examples on Binder. Locally, you probably do not have to execute the cell below\n",
    "\n",
    "This is to install PyStoG into the environment and then matplotlib for visualization.\n"
   ]
  },
  {
   "cell_type": "code",
   "execution_count": null,
   "metadata": {},
   "outputs": [],
   "source": [
    "!type python\n",
    "!python -m pip install ../\n",
    "!python -m pip install matplotlib"
   ]
  },
  {
   "cell_type": "markdown",
   "metadata": {},
   "source": [
    "# How to use the StoG class from PyStoG\n",
    "\n",
    "This tutorial shows how to use the `StoG` class from `pystog`\n"
   ]
  },
  {
   "cell_type": "code",
   "execution_count": null,
   "metadata": {},
   "outputs": [],
   "source": [
    "%matplotlib inline\n",
    "import os\n",
    "\n",
    "import numpy as np\n",
    "\n",
    "from pystog import StoG\n",
    "from pystog.utils import RealSpaceHeaders, ReciprocalSpaceHeaders\n",
    "from tests.materials import Argon\n",
    "from tests.utils import get_index_of_function\n",
    "\n",
    "\n",
    "def cat(filename):\n",
    "    with open(filename, \"r\") as f:\n",
    "        lines = f.readlines()\n",
    "        for line in lines:\n",
    "            print(line.strip())"
   ]
  },
  {
   "cell_type": "code",
   "execution_count": null,
   "metadata": {},
   "outputs": [],
   "source": [
    "data_dir = os.path.join(\"..\", \"tests\", \"test_data\")"
   ]
  },
  {
   "cell_type": "markdown",
   "metadata": {},
   "source": [
    "## Preview of the input data using Argon"
   ]
  },
  {
   "cell_type": "markdown",
   "metadata": {
    "collapsed": true
   },
   "source": [
    "To use the `StoG` class, we first need some data. Lets load in some test data for Argon from our test suite. \n",
    "We are going to extract the $Q$ and $S(Q)$ along with the $r$ and $g(r)$. \n",
    "\n",
    "NOTE: The argon data was created using small molecular dynamics simulations with [LAMMPS](https://lammps.sandia.gov/). The input files are provided in the PyStoG repository found [here](https://github.com/neutrons/pystog/tree/master/data/lammps_inputs).\n",
    "\n",
    "First, we can preview what is in the reciprocal space data file\n"
   ]
  },
  {
   "cell_type": "code",
   "execution_count": null,
   "metadata": {},
   "outputs": [],
   "source": [
    "cat(os.path.join(data_dir, \"argon.reciprocal_space.dat\"))"
   ]
  },
  {
   "cell_type": "markdown",
   "metadata": {},
   "source": [
    "And also preview what is in the real space data file "
   ]
  },
  {
   "cell_type": "code",
   "execution_count": null,
   "metadata": {},
   "outputs": [],
   "source": [
    "cat(os.path.join(data_dir, \"argon.real_space.dat\"))"
   ]
  },
  {
   "cell_type": "markdown",
   "metadata": {},
   "source": [
    "## Initialize StoG input\n",
    "\n",
    "Okay, so we create an instance of the `material` object using the test utility `Argon` class that helps us get the input ready for these datasets."
   ]
  },
  {
   "cell_type": "code",
   "execution_count": null,
   "metadata": {},
   "outputs": [],
   "source": [
    "material = Argon()"
   ]
  },
  {
   "cell_type": "markdown",
   "metadata": {},
   "source": [
    "Now, we load in the reciprocal space data we previewed, specifically $S(Q)$:"
   ]
  },
  {
   "cell_type": "code",
   "execution_count": null,
   "metadata": {},
   "outputs": [],
   "source": [
    "reciprocal_space_filename = os.path.join(data_dir, \"argon.reciprocal_space.dat\")\n",
    "\n",
    "data = np.loadtxt(reciprocal_space_filename, skiprows=2)\n",
    "q = data[:, get_index_of_function(\"Q\", ReciprocalSpaceHeaders)]\n",
    "sq = data[:, get_index_of_function(\"S(Q)\", RealSpaceHeaders)]"
   ]
  },
  {
   "cell_type": "markdown",
   "metadata": {},
   "source": [
    "And also the real space data we previewed, specifically $g(r)$:"
   ]
  },
  {
   "cell_type": "code",
   "execution_count": null,
   "metadata": {},
   "outputs": [],
   "source": [
    "real_space_filename = os.path.join(data_dir, \"argon.real_space.dat\")\n",
    "\n",
    "data = np.loadtxt(real_space_filename, skiprows=2)\n",
    "r = data[:, get_index_of_function(\"r\", RealSpaceHeaders)]\n",
    "gofr = data[:, get_index_of_function(\"g(r)\", RealSpaceHeaders)]"
   ]
  },
  {
   "cell_type": "markdown",
   "metadata": {},
   "source": [
    "Here, we use the material information along with the loaded $r$ data to make inputs we \n",
    "will pass to initialize the `StoG` class for this Argon data."
   ]
  },
  {
   "cell_type": "code",
   "execution_count": null,
   "metadata": {},
   "outputs": [],
   "source": [
    "kwargs_for_stog_input = {\n",
    "    \"NumberDensity\": material.kwargs[\"rho\"],\n",
    "    \"<b_coh>^2\": material.kwargs[\"<b_coh>^2\"],\n",
    "    \"<b_tot^2>\": material.kwargs[\"<b_tot^2>\"],\n",
    "    \"FourierFilter\": {\"Cutoff\": 1.5},\n",
    "    \"OmittedXrangeCorrection\": False,\n",
    "    \"Rdelta\": r[1] - r[0],\n",
    "    \"Rmin\": min(r),\n",
    "    \"Rmax\": max(r),\n",
    "}"
   ]
  },
  {
   "cell_type": "markdown",
   "metadata": {},
   "source": [
    "And also the information to load in the reciprocal space data. Here we are showing how we \n",
    "can load two datasets in order to merge them together. One dataset will be for the 0->15.0 $Q$-space data\n",
    "and the other will be from 1.9->35. Thus we will have overlap in the 1.9->15.0 $Q$-space range:"
   ]
  },
  {
   "cell_type": "code",
   "execution_count": null,
   "metadata": {},
   "outputs": [],
   "source": [
    "kwargs_for_files = {\n",
    "    \"Files\": [\n",
    "        {\n",
    "            \"Filename\": reciprocal_space_filename,\n",
    "            \"ReciprocalFunction\": \"S(Q)\",\n",
    "            \"Qmin\": 0.02,\n",
    "            \"Qmax\": 15.0,\n",
    "            \"Y\": {\"Offset\": 0.0, \"Scale\": 1.0},\n",
    "            \"X\": {\"Offset\": 0.0},\n",
    "        },\n",
    "        {\n",
    "            \"Filename\": reciprocal_space_filename,\n",
    "            \"ReciprocalFunction\": \"S(Q)\",\n",
    "            \"Qmin\": 1.90,\n",
    "            \"Qmax\": 35.2,\n",
    "            \"Y\": {\"Offset\": 0.0, \"Scale\": 1.0},\n",
    "            \"X\": {\"Offset\": 0.0},\n",
    "        },\n",
    "    ]\n",
    "}"
   ]
  },
  {
   "cell_type": "markdown",
   "metadata": {},
   "source": [
    "## Using the StoG class with the input\n",
    "\n",
    "Okay, now we initialize the `StoG` class with the information we passed:"
   ]
  },
  {
   "cell_type": "code",
   "execution_count": null,
   "metadata": {},
   "outputs": [],
   "source": [
    "stog = StoG(**kwargs_for_stog_input)\n",
    "stog.files = kwargs_for_files[\"Files\"]"
   ]
  },
  {
   "cell_type": "markdown",
   "metadata": {},
   "source": [
    "Similarly, we could initialize the class with one input as below:"
   ]
  },
  {
   "cell_type": "code",
   "execution_count": null,
   "metadata": {},
   "outputs": [],
   "source": [
    "kwargs_for_stog_input[\"Files\"] = kwargs_for_files[\"Files\"]\n",
    "stog = StoG(**kwargs_for_stog_input)"
   ]
  },
  {
   "cell_type": "markdown",
   "metadata": {},
   "source": [
    "Using `StoG`, we can perform a workflow of reading in the data sets specified\n",
    "in the `kwargs_for_files` information stored in the `stog.files` attribute, merge \n",
    "these datasets, transform them to reciprocal space, and then Fourier filter them with the \n",
    "cutoff we specified in `kwargs_for_stog_input`:"
   ]
  },
  {
   "cell_type": "code",
   "execution_count": null,
   "metadata": {},
   "outputs": [],
   "source": [
    "stog.read_all_data()\n",
    "stog.merge_data()\n",
    "stog.transform_merged()\n",
    "stog.fourier_filter()"
   ]
  }
 ],
 "metadata": {
  "kernelspec": {
   "display_name": "Python 3",
   "language": "python",
   "name": "python3"
  },
  "language_info": {
   "codemirror_mode": {
    "name": "ipython",
    "version": 3
   },
   "file_extension": ".py",
   "mimetype": "text/x-python",
   "name": "python",
   "nbconvert_exporter": "python",
   "pygments_lexer": "ipython3",
   "version": "3.6.12"
  }
 },
 "nbformat": 4,
 "nbformat_minor": 2
}
